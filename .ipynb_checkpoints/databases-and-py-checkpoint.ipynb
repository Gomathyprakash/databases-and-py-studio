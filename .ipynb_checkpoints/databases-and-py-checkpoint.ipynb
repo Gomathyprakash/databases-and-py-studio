{
 "cells": [
  {
   "cell_type": "markdown",
   "metadata": {
    "azdata_cell_guid": "54326aff-51cd-4766-8046-828a92489c6d"
   },
   "source": [
    "# Studio: Working with Databases in Python\n",
    "\n",
    "For today's studio, we will be using the [TV Shows dataset](https://www.kaggle.com/ruchi798/tv-shows-on-netflix-prime-video-hulu-and-disney) from Kaggle. We have already downloaded the CSV for you.\n",
    "\n",
    "You will also be using the watchlist you just created to figure out which streaming services contain the shows that you want to watch next so you can decide which one is worth the money to you.\n",
    "\n",
    "As you complete the different tasks in the studio, you may choose between using Pandas or SQL. Remember that during the prep work, we learned that one is oftentimes more efficient at certain tasks than the other, so choose wisely!"
   ]
  },
  {
   "cell_type": "markdown",
   "metadata": {
    "azdata_cell_guid": "00bc62ef-6c46-40a2-bdad-a3250a003ce7"
   },
   "source": [
    "## My Watchlist\n",
    "\n",
    "If you would like, please use this space to make note of your watchlist by editing the text cell."
   ]
  },
  {
   "cell_type": "markdown",
   "metadata": {
    "azdata_cell_guid": "040bdac5-f7fc-474f-b112-1d807249ad0a"
   },
   "source": [
    "## Database Setup\n",
    "\n",
    "To start with, import the necessary libraries and create a dataframe from the provided CSV. Print the info out for the dataframe. After that, you may drop the column called `Unnamed: 0` and rename any columns with spaces in the names or unusual characters such as `\"+\"`. Print out the info for the dataframe again to ensure that your changes were effective."
   ]
  },
  {
   "cell_type": "code",
   "execution_count": 5,
   "metadata": {
    "azdata_cell_guid": "965f15d3-27b1-43ed-97e4-8c6fd482476c",
    "tags": []
   },
   "outputs": [
    {
     "name": "stdout",
     "output_type": "stream",
     "text": [
      "<class 'pandas.core.frame.DataFrame'>\n",
      "RangeIndex: 5368 entries, 0 to 5367\n",
      "Data columns (total 12 columns):\n",
      " #   Column           Non-Null Count  Dtype \n",
      "---  ------           --------------  ----- \n",
      " 0   Unnamed: 0       5368 non-null   int64 \n",
      " 1   ID               5368 non-null   int64 \n",
      " 2   Title            5368 non-null   object\n",
      " 3   Year             5368 non-null   int64 \n",
      " 4   Age              3241 non-null   object\n",
      " 5   IMDb             4406 non-null   object\n",
      " 6   Rotten Tomatoes  5368 non-null   object\n",
      " 7   Netflix          5368 non-null   int64 \n",
      " 8   Hulu             5368 non-null   int64 \n",
      " 9   Prime Video      5368 non-null   int64 \n",
      " 10  Disney+          5368 non-null   int64 \n",
      " 11  Type             5368 non-null   int64 \n",
      "dtypes: int64(8), object(4)\n",
      "memory usage: 503.4+ KB\n"
     ]
    }
   ],
   "source": [
    "import sqlite3 as sl\n",
    "import pandas as pd\n",
    "df = pd.read_csv('tv_shows.csv')\n",
    "df.info()"
   ]
  },
  {
   "cell_type": "code",
   "execution_count": 7,
   "metadata": {},
   "outputs": [
    {
     "data": {
      "text/html": [
       "<div>\n",
       "<style scoped>\n",
       "    .dataframe tbody tr th:only-of-type {\n",
       "        vertical-align: middle;\n",
       "    }\n",
       "\n",
       "    .dataframe tbody tr th {\n",
       "        vertical-align: top;\n",
       "    }\n",
       "\n",
       "    .dataframe thead th {\n",
       "        text-align: right;\n",
       "    }\n",
       "</style>\n",
       "<table border=\"1\" class=\"dataframe\">\n",
       "  <thead>\n",
       "    <tr style=\"text-align: right;\">\n",
       "      <th></th>\n",
       "      <th>ID</th>\n",
       "      <th>Title</th>\n",
       "      <th>Year</th>\n",
       "      <th>Age</th>\n",
       "      <th>IMDb</th>\n",
       "      <th>Rotten Tomatoes</th>\n",
       "      <th>Netflix</th>\n",
       "      <th>Hulu</th>\n",
       "      <th>Prime Video</th>\n",
       "      <th>Disney+</th>\n",
       "      <th>Type</th>\n",
       "    </tr>\n",
       "  </thead>\n",
       "  <tbody>\n",
       "    <tr>\n",
       "      <th>0</th>\n",
       "      <td>1</td>\n",
       "      <td>Breaking Bad</td>\n",
       "      <td>2008</td>\n",
       "      <td>18+</td>\n",
       "      <td>9.4/10</td>\n",
       "      <td>100/100</td>\n",
       "      <td>1</td>\n",
       "      <td>0</td>\n",
       "      <td>0</td>\n",
       "      <td>0</td>\n",
       "      <td>1</td>\n",
       "    </tr>\n",
       "    <tr>\n",
       "      <th>1</th>\n",
       "      <td>2</td>\n",
       "      <td>Stranger Things</td>\n",
       "      <td>2016</td>\n",
       "      <td>16+</td>\n",
       "      <td>8.7/10</td>\n",
       "      <td>96/100</td>\n",
       "      <td>1</td>\n",
       "      <td>0</td>\n",
       "      <td>0</td>\n",
       "      <td>0</td>\n",
       "      <td>1</td>\n",
       "    </tr>\n",
       "    <tr>\n",
       "      <th>2</th>\n",
       "      <td>3</td>\n",
       "      <td>Attack on Titan</td>\n",
       "      <td>2013</td>\n",
       "      <td>18+</td>\n",
       "      <td>9.0/10</td>\n",
       "      <td>95/100</td>\n",
       "      <td>1</td>\n",
       "      <td>1</td>\n",
       "      <td>0</td>\n",
       "      <td>0</td>\n",
       "      <td>1</td>\n",
       "    </tr>\n",
       "    <tr>\n",
       "      <th>3</th>\n",
       "      <td>4</td>\n",
       "      <td>Better Call Saul</td>\n",
       "      <td>2015</td>\n",
       "      <td>18+</td>\n",
       "      <td>8.8/10</td>\n",
       "      <td>94/100</td>\n",
       "      <td>1</td>\n",
       "      <td>0</td>\n",
       "      <td>0</td>\n",
       "      <td>0</td>\n",
       "      <td>1</td>\n",
       "    </tr>\n",
       "    <tr>\n",
       "      <th>4</th>\n",
       "      <td>5</td>\n",
       "      <td>Dark</td>\n",
       "      <td>2017</td>\n",
       "      <td>16+</td>\n",
       "      <td>8.8/10</td>\n",
       "      <td>93/100</td>\n",
       "      <td>1</td>\n",
       "      <td>0</td>\n",
       "      <td>0</td>\n",
       "      <td>0</td>\n",
       "      <td>1</td>\n",
       "    </tr>\n",
       "    <tr>\n",
       "      <th>...</th>\n",
       "      <td>...</td>\n",
       "      <td>...</td>\n",
       "      <td>...</td>\n",
       "      <td>...</td>\n",
       "      <td>...</td>\n",
       "      <td>...</td>\n",
       "      <td>...</td>\n",
       "      <td>...</td>\n",
       "      <td>...</td>\n",
       "      <td>...</td>\n",
       "      <td>...</td>\n",
       "    </tr>\n",
       "    <tr>\n",
       "      <th>5363</th>\n",
       "      <td>5713</td>\n",
       "      <td>Paradise Islands</td>\n",
       "      <td>2017</td>\n",
       "      <td>NaN</td>\n",
       "      <td>NaN</td>\n",
       "      <td>10/100</td>\n",
       "      <td>0</td>\n",
       "      <td>0</td>\n",
       "      <td>0</td>\n",
       "      <td>1</td>\n",
       "      <td>1</td>\n",
       "    </tr>\n",
       "    <tr>\n",
       "      <th>5364</th>\n",
       "      <td>5714</td>\n",
       "      <td>Mexico Untamed</td>\n",
       "      <td>2018</td>\n",
       "      <td>NaN</td>\n",
       "      <td>NaN</td>\n",
       "      <td>10/100</td>\n",
       "      <td>0</td>\n",
       "      <td>0</td>\n",
       "      <td>0</td>\n",
       "      <td>1</td>\n",
       "      <td>1</td>\n",
       "    </tr>\n",
       "    <tr>\n",
       "      <th>5365</th>\n",
       "      <td>5715</td>\n",
       "      <td>Wild Centeral America</td>\n",
       "      <td>2020</td>\n",
       "      <td>NaN</td>\n",
       "      <td>NaN</td>\n",
       "      <td>10/100</td>\n",
       "      <td>0</td>\n",
       "      <td>0</td>\n",
       "      <td>0</td>\n",
       "      <td>1</td>\n",
       "      <td>1</td>\n",
       "    </tr>\n",
       "    <tr>\n",
       "      <th>5366</th>\n",
       "      <td>5716</td>\n",
       "      <td>Wild Russia</td>\n",
       "      <td>2018</td>\n",
       "      <td>NaN</td>\n",
       "      <td>NaN</td>\n",
       "      <td>10/100</td>\n",
       "      <td>0</td>\n",
       "      <td>0</td>\n",
       "      <td>0</td>\n",
       "      <td>1</td>\n",
       "      <td>1</td>\n",
       "    </tr>\n",
       "    <tr>\n",
       "      <th>5367</th>\n",
       "      <td>5717</td>\n",
       "      <td>Fearless Adventures with Jack Randall</td>\n",
       "      <td>2018</td>\n",
       "      <td>NaN</td>\n",
       "      <td>NaN</td>\n",
       "      <td>10/100</td>\n",
       "      <td>0</td>\n",
       "      <td>0</td>\n",
       "      <td>0</td>\n",
       "      <td>1</td>\n",
       "      <td>1</td>\n",
       "    </tr>\n",
       "  </tbody>\n",
       "</table>\n",
       "<p>5368 rows × 11 columns</p>\n",
       "</div>"
      ],
      "text/plain": [
       "        ID                                  Title  Year  Age    IMDb  \\\n",
       "0        1                           Breaking Bad  2008  18+  9.4/10   \n",
       "1        2                        Stranger Things  2016  16+  8.7/10   \n",
       "2        3                        Attack on Titan  2013  18+  9.0/10   \n",
       "3        4                       Better Call Saul  2015  18+  8.8/10   \n",
       "4        5                                   Dark  2017  16+  8.8/10   \n",
       "...    ...                                    ...   ...  ...     ...   \n",
       "5363  5713                       Paradise Islands  2017  NaN     NaN   \n",
       "5364  5714                         Mexico Untamed  2018  NaN     NaN   \n",
       "5365  5715                  Wild Centeral America  2020  NaN     NaN   \n",
       "5366  5716                            Wild Russia  2018  NaN     NaN   \n",
       "5367  5717  Fearless Adventures with Jack Randall  2018  NaN     NaN   \n",
       "\n",
       "     Rotten Tomatoes  Netflix  Hulu  Prime Video  Disney+  Type  \n",
       "0            100/100        1     0            0        0     1  \n",
       "1             96/100        1     0            0        0     1  \n",
       "2             95/100        1     1            0        0     1  \n",
       "3             94/100        1     0            0        0     1  \n",
       "4             93/100        1     0            0        0     1  \n",
       "...              ...      ...   ...          ...      ...   ...  \n",
       "5363          10/100        0     0            0        1     1  \n",
       "5364          10/100        0     0            0        1     1  \n",
       "5365          10/100        0     0            0        1     1  \n",
       "5366          10/100        0     0            0        1     1  \n",
       "5367          10/100        0     0            0        1     1  \n",
       "\n",
       "[5368 rows x 11 columns]"
      ]
     },
     "execution_count": 7,
     "metadata": {},
     "output_type": "execute_result"
    }
   ],
   "source": [
    "df1 = df.drop('Unnamed: 0',axis = 1)\n",
    "df1"
   ]
  },
  {
   "cell_type": "code",
   "execution_count": 8,
   "metadata": {},
   "outputs": [
    {
     "name": "stdout",
     "output_type": "stream",
     "text": [
      "<class 'pandas.core.frame.DataFrame'>\n",
      "RangeIndex: 5368 entries, 0 to 5367\n",
      "Data columns (total 11 columns):\n",
      " #   Column          Non-Null Count  Dtype \n",
      "---  ------          --------------  ----- \n",
      " 0   ID              5368 non-null   int64 \n",
      " 1   Title           5368 non-null   object\n",
      " 2   Year            5368 non-null   int64 \n",
      " 3   Age             3241 non-null   object\n",
      " 4   IMDb            4406 non-null   object\n",
      " 5   RottenTomatoes  5368 non-null   object\n",
      " 6   Netflix         5368 non-null   int64 \n",
      " 7   Hulu            5368 non-null   int64 \n",
      " 8   PrimeVideo      5368 non-null   int64 \n",
      " 9   Disney          5368 non-null   int64 \n",
      " 10  Type            5368 non-null   int64 \n",
      "dtypes: int64(7), object(4)\n",
      "memory usage: 461.4+ KB\n"
     ]
    }
   ],
   "source": [
    "df1 = df1.rename(columns={'Rotten Tomatoes': 'RottenTomatoes','Disney+':'Disney','Prime Video': 'PrimeVideo'})\n",
    "df1.info()"
   ]
  },
  {
   "cell_type": "markdown",
   "metadata": {
    "azdata_cell_guid": "93875e01-f1ec-45ab-b8b3-c0fe09c89c41"
   },
   "source": [
    "With your dataframe at the ready, create a new database called `tv`. Add a new table to your database called `shows` using the data in the dataframe. "
   ]
  },
  {
   "cell_type": "code",
   "execution_count": 9,
   "metadata": {
    "azdata_cell_guid": "cae4affc-d930-4649-9c39-551475a83b5b",
    "tags": []
   },
   "outputs": [
    {
     "data": {
      "text/plain": [
       "5368"
      ]
     },
     "execution_count": 9,
     "metadata": {},
     "output_type": "execute_result"
    }
   ],
   "source": [
    "con = sl.connect('tv.db')\n",
    "df1.to_sql('shows_3',con)"
   ]
  },
  {
   "cell_type": "markdown",
   "metadata": {
    "azdata_cell_guid": "4916f211-149f-467b-b5e4-22ad946b54f2"
   },
   "source": [
    "With your new table and database set up, print out the top 20 records in the `shows` table."
   ]
  },
  {
   "cell_type": "code",
   "execution_count": 10,
   "metadata": {
    "azdata_cell_guid": "c6aa3980-3eef-4d7d-8f04-961508662147",
    "tags": []
   },
   "outputs": [
    {
     "name": "stdout",
     "output_type": "stream",
     "text": [
      "(0, 1, 'Breaking Bad', 2008, '18+', '9.4/10', '100/100', 1, 0, 0, 0, 1)\n",
      "(1, 2, 'Stranger Things', 2016, '16+', '8.7/10', '96/100', 1, 0, 0, 0, 1)\n",
      "(2, 3, 'Attack on Titan', 2013, '18+', '9.0/10', '95/100', 1, 1, 0, 0, 1)\n",
      "(3, 4, 'Better Call Saul', 2015, '18+', '8.8/10', '94/100', 1, 0, 0, 0, 1)\n",
      "(4, 5, 'Dark', 2017, '16+', '8.8/10', '93/100', 1, 0, 0, 0, 1)\n",
      "(5, 6, 'Avatar: The Last Airbender', 2005, '7+', '9.3/10', '93/100', 1, 0, 1, 0, 1)\n",
      "(6, 7, 'Peaky Blinders', 2013, '18+', '8.8/10', '93/100', 1, 0, 0, 0, 1)\n",
      "(7, 8, 'The Walking Dead', 2010, '18+', '8.2/10', '93/100', 1, 0, 0, 0, 1)\n",
      "(8, 9, 'Black Mirror', 2011, '18+', '8.8/10', '92/100', 1, 0, 0, 0, 1)\n",
      "(9, 10, \"The Queen's Gambit\", 2020, '18+', '8.6/10', '92/100', 1, 0, 0, 0, 1)\n",
      "(10, 11, 'Mindhunter', 2017, '18+', '8.6/10', '90/100', 1, 0, 0, 0, 1)\n",
      "(11, 12, 'Community', 2009, '7+', '8.5/10', '90/100', 1, 1, 1, 0, 1)\n",
      "(12, 13, 'Narcos', 2015, '18+', '8.8/10', '90/100', 1, 0, 0, 0, 1)\n",
      "(13, 14, 'Shameless', 2011, '18+', '8.5/10', '90/100', 1, 1, 1, 0, 1)\n",
      "(14, 15, 'Money Heist', 2017, '18+', '8.3/10', '90/100', 1, 0, 0, 0, 1)\n",
      "(15, 16, \"Marvel's Daredevil\", 2015, '18+', '8.6/10', '90/100', 1, 0, 0, 0, 1)\n",
      "(16, 17, 'Lucifer', 2016, '16+', '8.1/10', '90/100', 1, 0, 0, 0, 1)\n",
      "(17, 18, 'Supernatural', 2005, '16+', '8.4/10', '89/100', 1, 0, 0, 0, 1)\n",
      "(18, 19, 'The Witcher', 2019, '18+', '8.2/10', '89/100', 1, 0, 0, 0, 1)\n",
      "(19, 20, 'Ozark', 2017, '18+', '8.4/10', '89/100', 1, 0, 0, 0, 1)\n"
     ]
    }
   ],
   "source": [
    "with con:\n",
    "    top20shows = con.execute(\"\"\"\n",
    "        SELECT *\n",
    "        FROM shows_3\n",
    "        LIMIT 20\n",
    "        \"\"\")\n",
    "    for row in top20shows:\n",
    "        print(row)  "
   ]
  },
  {
   "cell_type": "markdown",
   "metadata": {
    "azdata_cell_guid": "f158ccd2-c87a-4d2c-a947-0eadd0484a3e"
   },
   "source": [
    "Now add a table that includes an id number and the titles on your watchlist."
   ]
  },
  {
   "cell_type": "code",
   "execution_count": 11,
   "metadata": {
    "azdata_cell_guid": "f95defad-521b-4112-8435-08daaac80b80"
   },
   "outputs": [],
   "source": [
    "\n",
    "   with con:\n",
    "    con.execute(\"\"\"\n",
    "        CREATE TABLE watchlist4(\n",
    "            Id INTEGER NOT NULL PRIMARY KEY AUTOINCREMENT,\n",
    "            Title TEXT\n",
    "        )\n",
    "    \"\"\")    "
   ]
  },
  {
   "cell_type": "code",
   "execution_count": 13,
   "metadata": {},
   "outputs": [],
   "source": [
    "sql = 'INSERT INTO watchlist4 (Id, Title) values (?, ?)'\n",
    "data = [\n",
    "    (1, 'Breaking Bad'),\n",
    "    (2, 'Stranger Things'),\n",
    "    (3, 'Dark'),\n",
    "    (4, 'Black Mirror'),\n",
    "    (5, 'Community'),\n",
    "    (6, 'Narcos'),\n",
    "    (7, 'Shameless'),\n",
    "    (8, 'Money Heist'),\n",
    "    (9, 'Lucifier'),\n",
    "    (10, 'Ozark')\n",
    "]\n",
    "with con:\n",
    "    con.executemany(sql, data)"
   ]
  },
  {
   "cell_type": "code",
   "execution_count": 14,
   "metadata": {},
   "outputs": [
    {
     "data": {
      "text/html": [
       "<div>\n",
       "<style scoped>\n",
       "    .dataframe tbody tr th:only-of-type {\n",
       "        vertical-align: middle;\n",
       "    }\n",
       "\n",
       "    .dataframe tbody tr th {\n",
       "        vertical-align: top;\n",
       "    }\n",
       "\n",
       "    .dataframe thead th {\n",
       "        text-align: right;\n",
       "    }\n",
       "</style>\n",
       "<table border=\"1\" class=\"dataframe\">\n",
       "  <thead>\n",
       "    <tr style=\"text-align: right;\">\n",
       "      <th></th>\n",
       "      <th>Id</th>\n",
       "      <th>Title</th>\n",
       "    </tr>\n",
       "  </thead>\n",
       "  <tbody>\n",
       "    <tr>\n",
       "      <th>0</th>\n",
       "      <td>1</td>\n",
       "      <td>Breaking Bad</td>\n",
       "    </tr>\n",
       "    <tr>\n",
       "      <th>1</th>\n",
       "      <td>2</td>\n",
       "      <td>Stranger Things</td>\n",
       "    </tr>\n",
       "    <tr>\n",
       "      <th>2</th>\n",
       "      <td>3</td>\n",
       "      <td>Dark</td>\n",
       "    </tr>\n",
       "    <tr>\n",
       "      <th>3</th>\n",
       "      <td>4</td>\n",
       "      <td>Black Mirror</td>\n",
       "    </tr>\n",
       "    <tr>\n",
       "      <th>4</th>\n",
       "      <td>5</td>\n",
       "      <td>Community</td>\n",
       "    </tr>\n",
       "    <tr>\n",
       "      <th>5</th>\n",
       "      <td>6</td>\n",
       "      <td>Narcos</td>\n",
       "    </tr>\n",
       "    <tr>\n",
       "      <th>6</th>\n",
       "      <td>7</td>\n",
       "      <td>Shameless</td>\n",
       "    </tr>\n",
       "    <tr>\n",
       "      <th>7</th>\n",
       "      <td>8</td>\n",
       "      <td>Money Heist</td>\n",
       "    </tr>\n",
       "    <tr>\n",
       "      <th>8</th>\n",
       "      <td>9</td>\n",
       "      <td>Lucifier</td>\n",
       "    </tr>\n",
       "    <tr>\n",
       "      <th>9</th>\n",
       "      <td>10</td>\n",
       "      <td>Ozark</td>\n",
       "    </tr>\n",
       "  </tbody>\n",
       "</table>\n",
       "</div>"
      ],
      "text/plain": [
       "   Id            Title\n",
       "0   1     Breaking Bad\n",
       "1   2  Stranger Things\n",
       "2   3             Dark\n",
       "3   4     Black Mirror\n",
       "4   5        Community\n",
       "5   6           Narcos\n",
       "6   7        Shameless\n",
       "7   8      Money Heist\n",
       "8   9         Lucifier\n",
       "9  10            Ozark"
      ]
     },
     "execution_count": 14,
     "metadata": {},
     "output_type": "execute_result"
    }
   ],
   "source": [
    "pd.read_sql_query('SELECT * FROM watchlist4', con)"
   ]
  },
  {
   "cell_type": "markdown",
   "metadata": {
    "azdata_cell_guid": "4716090d-63e3-4283-8245-934c4a28c750"
   },
   "source": [
    "## Working with the Data\n",
    "\n",
    "Using either Pandas or SQL, determine how many shows are on each streaming service and what the mean is for each streaming service. \n",
    "\n",
    "**Note**: You may notice that the mean represents the percentage of shows in the dataframe that are on each streaming service. Take a moment to think about why that is."
   ]
  },
  {
   "cell_type": "code",
   "execution_count": 17,
   "metadata": {},
   "outputs": [
    {
     "data": {
      "text/html": [
       "<div>\n",
       "<style scoped>\n",
       "    .dataframe tbody tr th:only-of-type {\n",
       "        vertical-align: middle;\n",
       "    }\n",
       "\n",
       "    .dataframe tbody tr th {\n",
       "        vertical-align: top;\n",
       "    }\n",
       "\n",
       "    .dataframe thead th {\n",
       "        text-align: right;\n",
       "    }\n",
       "</style>\n",
       "<table border=\"1\" class=\"dataframe\">\n",
       "  <thead>\n",
       "    <tr style=\"text-align: right;\">\n",
       "      <th></th>\n",
       "      <th>Netflix</th>\n",
       "    </tr>\n",
       "  </thead>\n",
       "  <tbody>\n",
       "    <tr>\n",
       "      <th>0</th>\n",
       "      <td>1</td>\n",
       "    </tr>\n",
       "    <tr>\n",
       "      <th>1</th>\n",
       "      <td>1</td>\n",
       "    </tr>\n",
       "    <tr>\n",
       "      <th>2</th>\n",
       "      <td>1</td>\n",
       "    </tr>\n",
       "    <tr>\n",
       "      <th>3</th>\n",
       "      <td>1</td>\n",
       "    </tr>\n",
       "    <tr>\n",
       "      <th>4</th>\n",
       "      <td>1</td>\n",
       "    </tr>\n",
       "    <tr>\n",
       "      <th>...</th>\n",
       "      <td>...</td>\n",
       "    </tr>\n",
       "    <tr>\n",
       "      <th>1966</th>\n",
       "      <td>1</td>\n",
       "    </tr>\n",
       "    <tr>\n",
       "      <th>1967</th>\n",
       "      <td>1</td>\n",
       "    </tr>\n",
       "    <tr>\n",
       "      <th>1968</th>\n",
       "      <td>1</td>\n",
       "    </tr>\n",
       "    <tr>\n",
       "      <th>1969</th>\n",
       "      <td>1</td>\n",
       "    </tr>\n",
       "    <tr>\n",
       "      <th>1970</th>\n",
       "      <td>1</td>\n",
       "    </tr>\n",
       "  </tbody>\n",
       "</table>\n",
       "<p>1971 rows × 1 columns</p>\n",
       "</div>"
      ],
      "text/plain": [
       "      Netflix\n",
       "0           1\n",
       "1           1\n",
       "2           1\n",
       "3           1\n",
       "4           1\n",
       "...       ...\n",
       "1966        1\n",
       "1967        1\n",
       "1968        1\n",
       "1969        1\n",
       "1970        1\n",
       "\n",
       "[1971 rows x 1 columns]"
      ]
     },
     "execution_count": 17,
     "metadata": {},
     "output_type": "execute_result"
    }
   ],
   "source": [
    "# cols=['Netflix','Hulu','Prime Video','Disney Plus']\n",
    "df2 = pd.read_sql_query('select Netflix from shows_3 where Netflix = 1',con)\n",
    "\n",
    "df3 = pd.read_sql_query('select Hulu from shows_3 where Hulu = 1',con)\n",
    "df4= pd.read_sql_query('select PrimeVideo from shows_3 where  = 1',con)\n",
    "df5 = pd.read_sql_query('select Disney from shows_3 where = 1',con)"
   ]
  },
  {
   "cell_type": "code",
   "execution_count": null,
   "metadata": {},
   "outputs": [],
   "source": [
    "df6 = concat[]"
   ]
  },
  {
   "cell_type": "markdown",
   "metadata": {
    "azdata_cell_guid": "167cbd0d-ad9f-4f27-8066-e45dfdfaf421"
   },
   "source": [
    "Join your watchlist data with the shows data to determine which streaming services your watchlist shows are on and make a new table in your database using the joined data. Print out the data in your joined table to see what shows on your watchlist on in the original dataset. With the joined data, determine the percentage of your watchlist shows that are on each streaming service and how many of your watchlist shows are on each streaming service."
   ]
  },
  {
   "cell_type": "code",
   "execution_count": null,
   "metadata": {
    "azdata_cell_guid": "b871523e-a476-4f3a-a6ac-2e251f140e84"
   },
   "outputs": [],
   "source": []
  },
  {
   "cell_type": "markdown",
   "metadata": {
    "azdata_cell_guid": "909689e4-1aae-41e3-b1f8-158ebe5ec3ca"
   },
   "source": [
    "## Results\n",
    "\n",
    "Now that you have done your analysis, make note of the answers to the following questions by editing the text cell:\n",
    "\n",
    "1. Was every show on your watchlist in the Kaggle dataset? Do you have any ideas as to why a show might not have been present?\n",
    "2. Did you include a show or shows in your watchlist that is exclusive to one of the platforms? How might that have impacted your analysis?\n",
    "2. Which streaming service(s) offered the most shows on your watchlist? Which streaming service(s) offered the least?\n",
    "3. Based on the shows you want to watch and the results of your analysis, is there a streaming service you think would be a good fit for you?"
   ]
  }
 ],
 "metadata": {
  "kernelspec": {
   "display_name": "Python 3 (ipykernel)",
   "language": "python",
   "name": "python3"
  },
  "language_info": {
   "codemirror_mode": {
    "name": "ipython",
    "version": 3
   },
   "file_extension": ".py",
   "mimetype": "text/x-python",
   "name": "python",
   "nbconvert_exporter": "python",
   "pygments_lexer": "ipython3",
   "version": "3.9.12"
  }
 },
 "nbformat": 4,
 "nbformat_minor": 2
}
